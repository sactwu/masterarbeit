{
 "cells": [
  {
   "cell_type": "code",
<<<<<<< HEAD
   "execution_count": 5,
=======
   "execution_count": 21,
>>>>>>> dc03f676022def83f9fd0c03870e3ec9fc929981
   "metadata": {
    "collapsed": true
   },
   "outputs": [],
   "source": [
    "import numpy as np\n",
    "\n",
    "import pandas as pd\n",
    "\n",
    "import networkx as nx\n",
    "\n",
    "from scipy.sparse import linalg as sla\n",
    "\n",
    "import pywikibot\n",
    "\n",
    "from pywikibot.data import api\n",
    "\n",
    "import pprint\n"
   ]
  },
  {
   "cell_type": "code",
   "execution_count": 2,
   "metadata": {},
   "outputs": [],
   "source": [
    "def file_to_graph(filename, count, delimiter):\n",
    "    print('converting edge list to a graph...')\n",
    "    df = pd.read_csv(filename, delimiter=delimiter, header=0)\n",
    "    src = df.iloc[:, 0]  # Not a copy, just a reference.\n",
    "    # print(src)\n",
    "    trg = df.iloc[:, 1]\n",
    "    # print(trg)\n",
    "    graph = nx.Graph()\n",
    "    graph.add_nodes_from(range(count))\n",
    "    graph.add_edges_from(list(zip(src, trg)))\n",
    "    print('finished importing the graph. It has {0} nodes and {1} edges'.format(len(graph), graph.number_of_edges()))\n",
    "    return graph\n"
   ]
  },
  {
   "cell_type": "code",
   "execution_count": 10,
   "metadata": {},
   "outputs": [],
   "source": [
    "def get_sorted_google_matrix(graph):\n",
    "    print('creating a Google matrix...')\n",
    "    matrix = np.array(nx.google_matrix(graph))\n",
    "    print('calculating the pagerank values...')\n",
    "    pagerank = nx.pagerank(graph)\n",
    "    sorted_pagerank = sorted(pagerank.items(),\n",
    "                             key=lambda kv: kv[1], reverse=True)\n",
    "    print('sorting the matrix elements according to their pagerank values...')\n",
    "    sorted_matrix = np.empty(matrix.shape, dtype=float)\n",
    "    for i, (node, rank) in enumerate(sorted_pagerank):\n",
    "        sorted_matrix[i] = matrix[node]\n",
    "    for i, (node, rank) in enumerate(sorted_pagerank):\n",
    "        sorted_matrix[:, i] = matrix[:, node]\n",
    "        # for j, (node_2, rank_2) in enumerate(sorted_pagerank):\n",
    "        #     sorted_matrix[i, j] = matrix[node, node_2]\n",
    "    print('finished creating a sorted Google matrix')\n",
    "    print(sorted_matrix)\n",
    "    return sorted_matrix\n"
   ]
  },
  {
   "cell_type": "code",
   "execution_count": 5,
   "metadata": {},
   "outputs": [
    {
     "name": "stdout",
     "output_type": "stream",
     "text": [
      "converting edge list to a graph...\n"
     ]
    },
    {
     "name": "stdout",
     "output_type": "stream",
     "text": [
      "finished importing the graph. It has 4039 nodes and 84118 edges\n"
     ]
    }
   ],
   "source": [
    "graph = file_to_graph('edges.csv', 4039, ';')\n",
    "# artists_graph = file_to_graph('artist_edges.csv', 50515, ',')\n",
    "# athletes_graph = file_to_graph('athletes_edges.csv', 13866, ',')\n",
    "# company_graph = file_to_graph('company_edges.csv', 14113, ',')\n",
    "# government_graph = file_to_graph('government_edges.csv', 14113, ',')\n"
   ]
  },
  {
   "cell_type": "code",
   "execution_count": 6,
   "metadata": {},
   "outputs": [],
   "source": [
    "matrix1 = np.array(nx.google_matrix(graph))\n",
    "matrix2 = nx.google_matrix(graph)"
   ]
  },
  {
   "cell_type": "code",
   "execution_count": 7,
   "metadata": {},
   "outputs": [
    {
     "name": "stdout",
     "output_type": "stream",
     "text": [
      "[[3.71379054e-05 3.71379054e-05 3.71379054e-05 ... 3.71379054e-05\n  3.71379054e-05 3.71379054e-05]\n [3.71379054e-05 3.71379054e-05 3.71379054e-05 ... 3.71379054e-05\n  3.71379054e-05 3.71379054e-05]\n [3.71379054e-05 3.71379054e-05 3.71379054e-05 ... 3.71379054e-05\n  3.71379054e-05 3.71379054e-05]\n ...\n [3.71379054e-05 3.71379054e-05 3.71379054e-05 ... 3.71379054e-05\n  3.71379054e-05 3.71379054e-05]\n [3.71379054e-05 3.71379054e-05 3.71379054e-05 ... 3.71379054e-05\n  3.71379054e-05 3.71379054e-05]\n [3.71379054e-05 3.71379054e-05 3.71379054e-05 ... 3.71379054e-05\n  3.71379054e-05 3.71379054e-05]]\n"
     ]
    }
   ],
   "source": [
    "print(matrix1)"
   ]
  },
  {
   "cell_type": "code",
   "execution_count": null,
   "metadata": {},
   "outputs": [
    {
     "name": "stdout",
     "output_type": "stream",
     "text": [
      "2\n0.8500371379054221\n"
     ]
    }
   ],
   "source": [
    "\n"
   ]
  },
  {
   "cell_type": "code",
   "execution_count": 8,
   "metadata": {},
   "outputs": [
    {
     "name": "stdout",
     "output_type": "stream",
     "text": [
      "16313521\n"
     ]
    }
   ],
   "source": [
    "print(4039*4039)"
   ]
  },
  {
   "cell_type": "code",
   "execution_count": 8,
   "metadata": {},
   "outputs": [],
   "source": [
    "def graph_to_adjacency_dicts(graph):\n",
    "    adj = nx.to_dict_of_lists(graph)\n",
    "\n",
    "    return adj\n",
    "\n",
    "\n",
    "def graph_to_sparse_matrix(graph):\n",
    "\n",
    "    \"\"\"Converts the graph to a sparse matrix in coo format, reconvert if necessary\"\"\"\n",
    "    sparse = nx.to_scipy_sparse_matrix(graph)\n",
    "    sparse = sparse.tocsr()\n",
    "\n",
    "    return sparse\n"
   ]
  },
  {
   "cell_type": "code",
   "execution_count": 14,
   "metadata": {},
   "outputs": [
    {
     "name": "stdout",
     "output_type": "stream",
     "text": [
      "creating a Google matrix...\n"
     ]
    },
    {
     "name": "stdout",
     "output_type": "stream",
     "text": [
      "calculating the pagerank values...\n"
     ]
    },
    {
     "name": "stdout",
     "output_type": "stream",
     "text": [
      "sorting the matrix elements according to their pagerank values...\n"
     ]
    },
    {
     "name": "stdout",
     "output_type": "stream",
     "text": [
      "finished creating a sorted Google matrix\n[[3.71379054e-05 3.71379054e-05 3.71379054e-05 ... 3.71379054e-05\n  3.71379054e-05 3.71379054e-05]\n [3.71379054e-05 3.71379054e-05 3.71379054e-05 ... 3.71379054e-05\n  3.71379054e-05 3.71379054e-05]\n [3.71379054e-05 3.71379054e-05 3.71379054e-05 ... 3.71379054e-05\n  3.71379054e-05 3.71379054e-05]\n ...\n [3.71379054e-05 3.71379054e-05 3.71379054e-05 ... 3.71379054e-05\n  3.71379054e-05 3.71379054e-05]\n [3.71379054e-05 3.71379054e-05 3.71379054e-05 ... 3.71379054e-05\n  3.71379054e-05 3.71379054e-05]\n [3.71379054e-05 3.71379054e-05 3.71379054e-05 ... 3.71379054e-05\n  3.71379054e-05 3.71379054e-05]]\n"
     ]
    }
   ],
   "source": [
    "sorted_matrix = get_sorted_google_matrix(graph)"
   ]
  },
  {
   "cell_type": "code",
   "execution_count": 18,
   "metadata": {},
   "outputs": [
    {
     "data": {
      "text/plain": [
       "3.71379054221342e-05"
      ]
     },
     "execution_count": 18,
     "metadata": {},
     "output_type": "execute_result"
    }
   ],
   "source": [
    "matrix2[10,10]"
   ]
  },
  {
   "cell_type": "code",
   "execution_count": null,
   "metadata": {},
   "outputs": [],
   "source": [
    ""
   ]
  },
  {
   "cell_type": "code",
   "execution_count": null,
   "metadata": {},
   "outputs": [],
   "source": []
  },
  {
   "cell_type": "code",
   "execution_count": null,
   "metadata": {},
   "outputs": [],
   "source": []
  },
  {
   "cell_type": "code",
   "execution_count": 4,
   "metadata": {},
   "outputs": [],
   "source": [
    "\n"
   ]
  },
  {
   "cell_type": "code",
   "execution_count": 72,
   "metadata": {},
   "outputs": [
    {
     "name": "stdout",
     "output_type": "stream",
     "text": [
      "[[ 1  2  3  0]\n [ 7  5  6  4]\n [ 9 10  8 11]\n [15 13 12 14]]\n"
     ]
    }
   ],
   "source": [
    "\n",
    "matrix_in = np.matrix([[1, 2, 3, 0], [7, 5, 6, 4], [9, 10, 8, 11], [15, 13, 12, 14]])\n",
    "matrix = np.array(matrix_in)\n",
    "elements = [3, 1, 0, 2]\n",
    "sorted_elements = [0, 1, 2, 3]\n",
    "print(matrix)"
   ]
  },
  {
   "cell_type": "code",
   "execution_count": 91,
   "metadata": {},
   "outputs": [],
   "source": [
    "def get_sorted_matrix(matrix):\n",
    "\n",
    "    global sorted_elements, elements\n",
    "    print_log('sorting the matrix elements according to their pagerank values...')\n",
    "    sorted_matrix = np.empty(matrix.shape, dtype=float)\n",
    "    sorted_row_matrix = np.empty(matrix.shape, dtype=float)\n",
    "    for i, node in enumerate(sorted_elements):\n",
    "        node_id = elements.index(node)\n",
    "        sorted_row_matrix[i, :] = matrix[node_id, :]\n",
    "    for i, node in enumerate(sorted_elements):\n",
    "        node_id = elements.index(node)\n",
    "        sorted_matrix[:, i] = sorted_row_matrix[:, node_id]\n",
    "    print_log('finished sorting a matrix')\n",
    "    # print_log(sorted_matrix)\n",
    "    return sorted_matrix\n"
   ]
  },
  {
   "cell_type": "code",
   "execution_count": 92,
   "metadata": {},
   "outputs": [
    {
     "name": "stdout",
     "output_type": "stream",
     "text": [
      "sorting the matrix elements according to their pagerank values...\nfinished sorting a matrix\n"
     ]
    },
    {
     "data": {
      "text/plain": [
       "array([[ 8., 10., 11.,  9.],\n       [ 6.,  5.,  4.,  7.],\n       [12., 13., 14., 15.],\n       [ 3.,  2.,  0.,  1.]])"
      ]
     },
     "execution_count": 92,
     "metadata": {},
     "output_type": "execute_result"
    }
   ],
   "source": [
    "sorted_matrix = get_sorted_matrix(matrix)\n",
    "sorted_matrix"
   ]
  },
  {
   "cell_type": "code",
   "execution_count": null,
   "metadata": {},
   "outputs": [],
   "source": []
<<<<<<< HEAD
  },
  {
   "cell_type": "code",
   "execution_count": null,
   "metadata": {},
   "outputs": [],
   "source": []
  },
  {
   "cell_type": "code",
   "execution_count": null,
   "metadata": {},
   "outputs": [],
   "source": []
  },
  {
   "cell_type": "code",
   "execution_count": null,
   "metadata": {},
   "outputs": [],
   "source": []
  },
  {
   "cell_type": "code",
   "execution_count": 7,
   "metadata": {},
   "outputs": [],
   "source": [
    "site = pywikibot.Site(\"en\", \"wikipedia\")\n",
    "page = pywikibot.Page(site, \"Angela Merkel\")\n",
    "item = pywikibot.ItemPage.fromPage(page)\n"
   ]
  },
  {
   "cell_type": "code",
   "execution_count": 34,
   "metadata": {},
   "outputs": [
    {
     "name": "stdout",
     "output_type": "stream",
     "text": [
      "Angela Merkel\n5\n"
     ]
    }
   ],
   "source": [
    "site = pywikibot.Site(\"en\", \"wikipedia\")\n",
    "page = pywikibot.Page(site, \"Angela Merkel\")\n",
    "item = pywikibot.ItemPage.fromPage(page)\n",
    "print(item.getSitelink(site))\n",
    "item_dict = item.get()\n",
    "# print(item_dict.keys())\n",
    "clm_dict = item_dict[\"claims\"]\n",
    "clm_list = clm_dict[\"P31\"]\n",
    "for clm in clm_list:\n",
    "    clm_trgt = clm.getTarget()\n",
    "    print(clm_trgt.getID(numeric=True))\n"
   ]
  },
  {
   "cell_type": "code",
   "execution_count": null,
   "metadata": {},
   "outputs": [],
   "source": []
  },
  {
   "cell_type": "code",
   "execution_count": null,
   "metadata": {},
   "outputs": [],
   "source": []
  },
  {
   "cell_type": "code",
   "execution_count": null,
   "metadata": {},
   "outputs": [],
   "source": []
  },
  {
   "cell_type": "code",
   "execution_count": null,
   "metadata": {},
   "outputs": [],
   "source": []
  },
  {
   "cell_type": "code",
   "execution_count": null,
   "metadata": {},
   "outputs": [],
   "source": []
=======
>>>>>>> dc03f676022def83f9fd0c03870e3ec9fc929981
  }
 ],
 "metadata": {
  "kernelspec": {
   "display_name": "Python 2",
   "language": "python",
   "name": "python2"
  },
  "language_info": {
   "codemirror_mode": {
    "name": "ipython",
    "version": 2
   },
   "file_extension": ".py",
   "mimetype": "text/x-python",
   "name": "python",
   "nbconvert_exporter": "python",
   "pygments_lexer": "ipython2",
   "version": "2.7.6"
  }
 },
 "nbformat": 4,
 "nbformat_minor": 0
}
