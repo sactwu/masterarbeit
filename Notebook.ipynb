{
 "cells": [
  {
   "cell_type": "code",
   "execution_count": 240,
   "metadata": {
    "collapsed": true
   },
   "outputs": [],
   "source": [
    "import numpy as np\n",
    "import scipy.linalg as la\n",
    "import time\n",
    "import matplotlib.pyplot as plt\n",
    "import pandas as pd\n",
    "import scipy as sp\n",
    "import threading\n",
    "import concurrent.futures\n",
    "import networkx as nx\n",
    "from mpl_toolkits import mplot3d\n",
    "from scipy import sparse as spa\n",
    "from scipy.sparse import linalg as sla\n",
    "from collections import defaultdict\n",
    "from matplotlib.colors import LogNorm\n",
    "\n",
    "%matplotlib inline\n",
    "sp.set_printoptions(precision=4, suppress=True)\n",
    "np.set_printoptions(precision=4)\n"
   ]
  },
  {
   "cell_type": "code",
   "execution_count": 2,
   "metadata": {},
   "outputs": [],
   "source": [
    "def read_data(filename):\n",
    "\n",
    "    print('reading input data')\n",
    "    df = pd.read_csv(filename, sep=';')\n",
    "    df.drop_duplicates()\n",
    "\n",
    "    return df\n"
   ]
  },
  {
   "cell_type": "code",
   "execution_count": 3,
   "metadata": {},
   "outputs": [],
   "source": [
    "def file_to_graph(filename='edges.csv'):\n",
    "\n",
    "    \"\"\"Read data file and return graph. Target nodes are stored in a list as keys of (empty) dictionaries.\n",
    "    e.g. print(G[236])  {186: {}, 84: {}, 62: {},...}\n",
    "    print(type(G[236])) (<class 'networkx.classes.coreviews.AtlasView'>)\"\"\"\n",
    "    print('reading input data')\n",
    "    df = read_data(filename)\n",
    "    # A_ij means j points to i\n",
    "    graph = nx.from_pandas_edgelist(df, source='src', target='trg')\n",
    "\n",
    "    return graph\n"
   ]
  },
  {
   "cell_type": "code",
   "execution_count": 4,
   "metadata": {},
   "outputs": [],
   "source": [
    "def graph_to_sparse_matrix(graph):\n",
    "\n",
    "    \"\"\"Converts the graph to a sparse matrix in coo format, reconvert if necessary\"\"\"\n",
    "    sparse = nx.to_scipy_sparse_matrix(graph)\n",
    "    sparse = sparse.tocsr()\n",
    "\n",
    "    return sparse\n"
   ]
  },
  {
   "cell_type": "code",
   "execution_count": 5,
   "metadata": {},
   "outputs": [],
   "source": [
    "def edgelist_to_sparse_matrix(filename='edges.csv'):\n",
    "\n",
    "    \"\"\"Read data file and return sparse matrix in coordinate format.\"\"\"\n",
    "    print('converting edge list to sparse matrix')\n",
    "    df = read_data(filename)\n",
    "    # A_ij means j points to i\n",
    "    rows = df['trg']  # Not a copy, just a reference.\n",
    "    cols = df['src']\n",
    "    ones = np.ones(len(rows), np.uint32)\n",
    "    sparse = spa.coo_matrix((ones, (rows, cols)))\n",
    "    # print(sparse.shape())\n",
    "    sparse = sparse.tocsr()\n",
    "\n",
    "    # print(sparse.shape())\n",
    "    return sparse\n"
   ]
  },
  {
   "cell_type": "code",
   "execution_count": 6,
   "metadata": {},
   "outputs": [],
   "source": [
    "def graph_to_adjacency_dicts(graph):\n",
    "\n",
    "    \"\"\"Converts the graph to a dictionary representation of every node and it's adjacent nodes\"\"\"\n",
    "    adj = nx.to_dict_of_lists(graph)\n",
    "\n",
    "    return adj\n"
   ]
  },
  {
   "cell_type": "code",
   "execution_count": 7,
   "metadata": {},
   "outputs": [],
   "source": [
    "def get_google_matrix(graph_in):\n",
    "\n",
    "    print('creating google mmatrix')\n",
    "\n",
    "    adj = graph_to_adjacency_dicts(graph_in)\n",
    "    # get all indices for nonzero elements in a sparse matrix\n",
    "    # [((i, j), a[i, j]) for i, j in zip(*a.nonzero())]\n",
    "\n",
    "    # S = nx.Graph()\n",
    "    graph = nx.Graph()\n",
    "    num_nodes = len(adj)\n",
    "    for node in adj:\n",
    "        graph.add_node(node)\n",
    "    alpha = 0.85\n",
    "    for count, j in enumerate(adj):\n",
    "        print(count)\n",
    "        out_edges = len(adj[j])\n",
    "        k_out = out_edges if out_edges > 0 else 1 / num_nodes\n",
    "        for i in adj:\n",
    "            adj_ij = 1 if j in adj[i] else 0\n",
    "            weight = alpha * adj_ij / k_out + (1 - alpha) / num_nodes\n",
    "            graph.add_edge(i, j, weight=weight)\n",
    "            # the next three lines are equivalent to the previous and can be used if S_ij is needed elsewhere\n",
    "            # S[i][j]['weight'] = A_ij / k_out\n",
    "            # S_ij = S[i][j]['weight']\n",
    "            # G[i][j]['weight'] = alpha * S_ij + (1 - alpha) / N\n",
    "    nx.write_adjlist(graph, \"graph.adjlist\")\n",
    "    G = graph_to_sparse_matrix(graph)\n",
    "\n",
    "    return G\n"
   ]
  },
  {
   "cell_type": "code",
   "execution_count": 27,
   "metadata": {},
   "outputs": [],
   "source": [
    "def get_eigen(g):\n",
    "\n",
    "    print('calculating the eigenvalues')\n",
    "    l_ev, v_l, v_r = la.eig(g, left=True)\n",
    "    # l_ev vector of eigenvalues\n",
    "    # v_l left eigenvector\n",
    "    # v_r right eigenvector\n",
    "\n",
    "    # usage if only interested in the largest eigenvalue:\n",
    "    v_r = v_r[:, 0].real\n",
    "    v_l = v_l[:, 0].real\n",
    "    l_c = l_ev[0].real\n",
    "\n",
    "    return l_c, v_l, v_r\n"
   ]
  },
  {
   "cell_type": "code",
   "execution_count": 19,
   "metadata": {},
   "outputs": [],
   "source": [
    ""
   ]
  },
  {
   "cell_type": "code",
   "execution_count": 241,
   "metadata": {},
   "outputs": [],
   "source": [
    "def get_eigen_sparse(g):\n",
    "    eig_r, v_r = sla.eigs(g, k=1, which='LR')\n",
    "    eig_l, v_l = sla.eigs(g.transpose(), k=1, which='LR')\n",
    "    \n",
    "    if not eig_l == eig_r:\n",
    "        print('the eigenvalues are different!')\n",
    "    \n",
    "    return eig_r, v_l, v_r\n"
   ]
  },
  {
   "cell_type": "code",
   "execution_count": 224,
   "metadata": {},
   "outputs": [
    {
     "name": "stdout",
     "output_type": "stream",
     "text": [
      "[[0.8096 0.     0.     0.9148 0.    ]\n [0.9038 0.5422 0.     0.     0.    ]\n [0.     0.     0.     0.     0.    ]\n [0.     0.     0.6345 0.3459 0.    ]\n [0.     0.     0.     0.     0.    ]]\n[[0.8096 0.9038 0.     0.     0.    ]\n [0.     0.5422 0.     0.     0.    ]\n [0.     0.     0.     0.6345 0.    ]\n [0.9148 0.     0.     0.3459 0.    ]\n [0.     0.     0.     0.     0.    ]]\n"
     ]
    }
   ],
   "source": [
    "a = spa.random(5, 5, density=0.25)\n",
    "print(a.todense())\n",
    "print(a.transpose().todense())"
   ]
  },
  {
   "cell_type": "code",
   "execution_count": 233,
   "metadata": {},
   "outputs": [
    {
     "name": "stdout",
     "output_type": "stream",
     "text": [
      "eigenvalues right: \n [0.8096] \neigenvalues left: \n [0.8096] \nright eigenvectors: \n [[0.2837]\n [0.9589]\n [0.    ]\n [0.    ]\n [0.    ]] \nleft eigenvectors: \n [[ 0.3706]\n [-0.    ]\n [ 0.5729]\n [ 0.731 ]\n [ 0.    ]]\nA * v_r = \n [0.2297 0.7763 0.     0.     0.    ]\neig * v_r = \n [0.2297 0.7763 0.     0.     0.    ]\nv_l * A = \n [ 0.3    -0.      0.4639  0.5919  0.    ]\neig * v_l = \n [ 0.3    -0.      0.4639  0.5919  0.    ]\n\neigenvalues: \n [0.5422 0.8096 0.3459 0.     0.    ] \nright eigenvectors: \n [[ 0.      0.2837 -0.211   0.4567  0.    ]\n [ 1.      0.9589  0.9716 -0.7613  0.    ]\n [ 0.      0.      0.      0.2203  0.    ]\n [ 0.      0.      0.107  -0.4042  0.    ]\n [ 0.      0.      0.      0.      1.    ]] \nleft eigenvectors: \n [[-0.1379  0.3706  0.      0.      0.    ]\n [ 0.0408  0.      0.      0.      0.    ]\n [-0.7523  0.5729  0.878   1.      0.    ]\n [-0.6429  0.731   0.4786  0.      0.    ]\n [ 0.      0.      0.      0.      1.    ]]\nA * v_r = \n [0.2297 0.7763 0.     0.     0.    ]\neig * v_r = \n [0.2297 0.7763 0.     0.     0.    ]\nv_l * A = \n [0.3    0.     0.4639 0.5919 0.    ]\neig * v_l = \n [-0.1117  0.033  -0.6091 -0.5205  0.    ]\n\neigenvalues right: \n [0.5422 0.8096 0.3459 0.     0.    ] \neigenvalues left: \n [0.     0.3459 0.8096 0.5422 0.    ] \nright eigenvectors: \n [[ 0.      0.2837 -0.211   0.4567  0.    ]\n [ 1.      0.9589  0.9716 -0.7613  0.    ]\n [ 0.      0.      0.      0.2203  0.    ]\n [ 0.      0.      0.107  -0.4042  0.    ]\n [ 0.      0.      0.      0.      1.    ]] \nleft eigenvectors: \n [[ 0.      0.      0.3706 -0.1379  0.    ]\n [ 0.      0.      0.      0.0408  0.    ]\n [ 1.      0.878   0.5729 -0.7523  0.    ]\n [ 0.      0.4786  0.731  -0.6429  0.    ]\n [ 0.      0.      0.      0.      1.    ]]\nA * v_r = \n [[0.2297]\n [0.7763]\n [0.    ]\n [0.    ]\n [0.    ]]\neig * v_r = \n [[0.2297]\n [0.7763]\n [0.    ]\n [0.    ]\n [0.    ]]\nv_l * A = \n [[0.     0.     0.3037 0.1656 0.    ]]\neig * v_l = \n [[0.    ]\n [0.    ]\n [0.3037]\n [0.1656]\n [0.    ]]\n"
     ]
    }
   ],
   "source": [
    "eig_r, v_r = sla.eigs(a, k=1, which='LR')\n",
    "eig_l, v_l = sla.eigs(a.transpose(), k=1, which='LR')\n",
    "print('eigenvalues right: \\n', eig_r.real, '\\neigenvalues left: \\n', eig_l.real, '\\nright eigenvectors: \\n', v_r.real, '\\nleft eigenvectors: \\n', v_l.real)\n",
    "\n",
    "print('A * v_r = \\n', a @ v_r[:, 0].real)\n",
    "print('eig * v_r = \\n', eig_r[0].real * v_r[:, 0].real)\n",
    "\n",
    "print('v_l * A = \\n', v_l[:, 0].real @ a)\n",
    "print('eig * v_l = \\n', eig_r[0].real * v_l[:, 0].real)\n",
    "\n",
    "eig, v_l, v_r = la.eig(a.todense(), left=True)\n",
    "print('\\neigenvalues: \\n', eig.real, '\\nright eigenvectors: \\n', v_r.real, '\\nleft eigenvectors: \\n', v_l.real)\n",
    "\n",
    "print('A * v_r = \\n', a @ v_r[:, 1].real)\n",
    "print('eig * v_r = \\n', eig[1].real * v_r[:, 1].real)\n",
    "\n",
    "print('v_l * A = \\n', v_l[:, 1].real @ a)\n",
    "print('eig * v_l = \\n', eig[1].real * v_l[:, 0].real)\n",
    "\n",
    "eig_r, v_r = np.linalg.eig(a.todense())\n",
    "eig_l, v_l = np.linalg.eig(a.transpose().todense())\n",
    "print('\\neigenvalues right: \\n', eig_r.real, '\\neigenvalues left: \\n', eig_l.real, '\\nright eigenvectors: \\n', v_r.real, '\\nleft eigenvectors: \\n', v_l.real)\n",
    "\n",
    "print('A * v_r = \\n', a @ v_r[:, 1].real)\n",
    "print('eig * v_r = \\n', eig_r[1].real * v_r[:, 1].real)\n",
    "\n",
    "print('v_l * A = \\n', v_l[:, 1].real.transpose() @ a)\n",
    "print('eig * v_l = \\n', v_l[:, 1].real * eig_l[1].real)\n"
   ]
  },
  {
   "cell_type": "code",
   "execution_count": null,
   "metadata": {},
   "outputs": [],
   "source": []
  },
  {
   "cell_type": "code",
   "execution_count": 9,
   "metadata": {},
   "outputs": [],
   "source": [
    "def decompose_matrix(g, count):\n",
    "\n",
    "    g_rr = g[0:count, 0:count]\n",
    "    g_rs = g[0:count, count:]\n",
    "    g_sr = g[count:, 0:count]\n",
    "    g_ss = g[count:, count:]\n",
    "\n",
    "    return g_rr, g_rs, g_sr, g_ss\n"
   ]
  },
  {
   "cell_type": "code",
   "execution_count": 10,
   "metadata": {},
   "outputs": [],
   "source": [
    "def calc_g_pr(g_rs, g_sr, p_c, l, v_r, v_l):\n",
    "\n",
    "    print('calculating G_pr')\n",
    "    # the following two lines give equivalent results, might be different in performance\n",
    "    # print('G_rs ', G_rs, '\\n p_c:\\n', P_c, '\\n G_sr:\\n', G_sr)\n",
    "    # G_pr = (G_rs @ p_c @ G_sr)/(1-l)\n",
    "    # print('G_rs ', G_rs, '\\n v_r:\\n', v_r, '\\n G_sr:\\n', G_sr, '\\n v_l:\\n', v_l)\n",
    "    vr_x = (g_rs @ v_r)\n",
    "    vl_x = (v_l @ g_sr)\n",
    "    g_pr = (np.outer(vr_x, vl_x) / (1 - l)).real\n",
    "    # print('\\nvr_x:\\n', vr_x, '\\nvl_x:\\n', vl_x, '\\ng_pr:\\n', g_pr)\n",
    "\n",
    "    return g_pr\n"
   ]
  },
  {
   "cell_type": "code",
   "execution_count": 11,
   "metadata": {},
   "outputs": [],
   "source": [
    "def calc_sum_expr(g_ss_x, size):\n",
    "\n",
    "    sum_expr = np.zeros((size, size))\n",
    "    epsilon = np.ones((size, size)) * 0.001\n",
    "    sum_expr += g_ss_x.power(0)\n",
    "    # print('sum_expr: \\n', sum_expr, '\\nprev:\\n', prev, '\\nepsilon:\\n', epsilon)\n",
    "    # print('\\nsum_expr - prev:\\n', np.abs(sum_expr - prev))\n",
    "    # print((np.abs(sum_expr - prev) > epsilon).all())\n",
    "    l = 1\n",
    "    while ((np.linalg.matrix_power(g_ss_x, l)) > epsilon).any() & (g_ss_x.power(l) < np.inf).all():\n",
    "        # print('\\nsum_expr - prev:\\n', np.abs(sum_expr - prev))\n",
    "        # print('\\nsum_expr:\\n', sum_expr)\n",
    "        sum_expr += np.linalg.matrix_power(g_ss_x, l)\n",
    "        #  'sum_expr: ', sum_expr, '\\nprev:\\n', prev,\n",
    "        # print('\\nsum_expr:\\n', sum_expr)\n",
    "        l += 1\n",
    "\n",
    "    return sum_expr\n"
   ]
  },
  {
   "cell_type": "code",
   "execution_count": 12,
   "metadata": {},
   "outputs": [],
   "source": [
    "def calc_g_qr(q_c, g_ss, g_rs, g_sr, size):\n",
    "\n",
    "    print('calculating G_qr')\n",
    "    g_ss_x = q_c * g_ss * q_c\n",
    "    # print('\\ng_ss:\\n', g_ss, '\\nq_c:\\n', q_c, '\\ng_ss_x:\\n', g_ss_x)\n",
    "    # print('g_ss_x: \\n', g_ss_x, '\\nmatrix_power(g_ss_x, 0):\\n', np.linalg.matrix_power(g_ss_x, 0))\n",
    "    sum_expr = calc_sum_expr(g_ss_x, size)\n",
    "    sum_expr_g_sr = sum_expr @ g_sr\n",
    "    prod = q_c * sum_expr_g_sr\n",
    "\n",
    "    g_qr = g_rs @ prod\n",
    "\n",
    "    return g_qr\n"
   ]
  },
  {
   "cell_type": "code",
   "execution_count": 13,
   "metadata": {},
   "outputs": [],
   "source": [
    "def calc_sum_expr_g_sj(sum_expr, col):\n",
    "\n",
    "    sum_expr_g_sr_col = sum_expr @ col\n",
    "\n",
    "    return sum_expr_g_sr_col\n"
   ]
  },
  {
   "cell_type": "code",
   "execution_count": 245,
   "metadata": {},
   "outputs": [],
   "source": [
    "def calc_g_r(g, count, size):\n",
    "\n",
    "    print('calculating G_r')\n",
    "    g_rr, g_rs, g_sr, g_ss = decompose_matrix(g, count)\n",
    "    # print('\\ng:\\n', g, '\\ng_rr:\\n', g_rr, '\\ng_rs:\\n', g_rs, '\\ng_sr:\\n', g_sr, '\\ng_ss:\\n', g_ss)\n",
    "    # l_c, v_l, v_r = get_eigen(g_ss.todense())\n",
    "    l_c, v_l, v_r = get_eigen_sparse(g_ss)\n",
    "    \n",
    "    p_c = np.dot(v_r, v_l).real\n",
    "    q_c = 1 - p_c\n",
    "\n",
    "    g_pr = calc_g_pr(g_rs, g_sr, p_c, l_c, v_l, v_r)\n",
    "    g_qr = calc_g_qr(q_c, g_ss, g_rs, g_sr, size - count)\n",
    "    # print('\\ng_rr: \\n', g_rr, '\\ng_pr: \\n', g_pr, '\\ng_qr: \\n', g_qr)\n",
    "    g_r = g_rr + g_pr + g_qr\n",
    "\n",
    "    return g_r\n"
   ]
  },
  {
   "cell_type": "code",
   "execution_count": 237,
   "metadata": {},
   "outputs": [],
   "source": [
    "def main():\n",
    "\n",
    "    # graph = file_to_graph('edges.csv')\n",
    "    # print('a: \\n', a)\n",
    "\n",
    "    # Creating the graph is necessary for the first time only, can be read from the files otherwise\n",
    "    # g = get_google_matrix(graph)\n",
    "    g = nx.read_adjlist(\"graph.adjlist\")\n",
    "    print('finished reading the graph')\n",
    "    # sparse = edgelist_to_sparse_matrix('edges.csv')\n",
    "    # spa.save_npz('sparse_matrix.npz', sparse)\n",
    "    # print('the graph has been saved to sparse_matrix.npz')\n",
    "    sparse = spa.load_npz(\"sparse_matrix.npz\")\n",
    "    print('finished reading the matrix')\n",
    "    size = len(g)\n",
    "    count = 50\n",
    "\n",
    "    start_time = time.time()\n",
    "    print('\\nStarting the code for a matrix of size {0} and count of {1}'.format(size, count))\n",
    "    g_r = calc_g_r(sparse, count, size)\n",
    "    # print('\\ng_r:\\n', g_r)\n",
    "    plt.matshow(g_r)\n",
    "    plt.title('size = {0}, count = {1}\\n'.format(size, count))\n",
    "    plt.show()\n",
    "    plt.colorbar()\n",
    "    stop_time = time.time()\n",
    "    running_time = stop_time - start_time\n",
    "    print('\\nRunning the code for a graph of size {0} and count of {1} took {2} seconds'\n",
    "          .format(size, count, running_time))\n"
   ]
  },
  {
   "cell_type": "code",
   "execution_count": 243,
   "metadata": {},
   "outputs": [
    {
     "ename": "MemoryError",
     "evalue": "",
     "traceback": [
      "\u001b[0;31m---------------------------------------------------------------------------\u001b[0m",
      "\u001b[0;31mMemoryError\u001b[0m                               Traceback (most recent call last)",
      "\u001b[0;32m<ipython-input-243-58ca95c5b364>\u001b[0m in \u001b[0;36m<module>\u001b[0;34m()\u001b[0m\n\u001b[0;32m----> 1\u001b[0;31m \u001b[0mmain\u001b[0m\u001b[0;34m(\u001b[0m\u001b[0;34m)\u001b[0m\u001b[0;34m\u001b[0m\u001b[0;34m\u001b[0m\u001b[0m\n\u001b[0m",
      "\u001b[0;32m<ipython-input-237-4ad45ce172aa>\u001b[0m in \u001b[0;36mmain\u001b[0;34m()\u001b[0m\n\u001b[1;32m      6\u001b[0m     \u001b[0;31m# Creating the graph is necessary for the first time only, can be read from the files otherwise\u001b[0m\u001b[0;34m\u001b[0m\u001b[0;34m\u001b[0m\u001b[0;34m\u001b[0m\u001b[0m\n\u001b[1;32m      7\u001b[0m     \u001b[0;31m# g = get_google_matrix(graph)\u001b[0m\u001b[0;34m\u001b[0m\u001b[0;34m\u001b[0m\u001b[0;34m\u001b[0m\u001b[0m\n\u001b[0;32m----> 8\u001b[0;31m     \u001b[0mg\u001b[0m \u001b[0;34m=\u001b[0m \u001b[0mnx\u001b[0m\u001b[0;34m.\u001b[0m\u001b[0mread_adjlist\u001b[0m\u001b[0;34m(\u001b[0m\u001b[0;34m\"graph.adjlist\"\u001b[0m\u001b[0;34m)\u001b[0m\u001b[0;34m\u001b[0m\u001b[0;34m\u001b[0m\u001b[0m\n\u001b[0m\u001b[1;32m      9\u001b[0m     \u001b[0mprint\u001b[0m\u001b[0;34m(\u001b[0m\u001b[0;34m'finished reading the graph'\u001b[0m\u001b[0;34m)\u001b[0m\u001b[0;34m\u001b[0m\u001b[0;34m\u001b[0m\u001b[0m\n\u001b[1;32m     10\u001b[0m     \u001b[0;31m# sparse = edgelist_to_sparse_matrix('edges.csv')\u001b[0m\u001b[0;34m\u001b[0m\u001b[0;34m\u001b[0m\u001b[0;34m\u001b[0m\u001b[0m\n",
      "\u001b[0;32m<decorator-gen-694>\u001b[0m in \u001b[0;36mread_adjlist\u001b[0;34m(path, comments, delimiter, create_using, nodetype, encoding)\u001b[0m\n",
      "\u001b[0;32mC:\\Users\\antonio\\AppData\\Roaming\\Python\\Python37\\site-packages\\networkx\\utils\\decorators.py\u001b[0m in \u001b[0;36m_open_file\u001b[0;34m(func_to_be_decorated, *args, **kwargs)\u001b[0m\n\u001b[1;32m    238\u001b[0m         \u001b[0;31m# Finally, we call the original function, making sure to close the fobj\u001b[0m\u001b[0;34m\u001b[0m\u001b[0;34m\u001b[0m\u001b[0;34m\u001b[0m\u001b[0m\n\u001b[1;32m    239\u001b[0m         \u001b[0;32mtry\u001b[0m\u001b[0;34m:\u001b[0m\u001b[0;34m\u001b[0m\u001b[0;34m\u001b[0m\u001b[0m\n\u001b[0;32m--> 240\u001b[0;31m             \u001b[0mresult\u001b[0m \u001b[0;34m=\u001b[0m \u001b[0mfunc_to_be_decorated\u001b[0m\u001b[0;34m(\u001b[0m\u001b[0;34m*\u001b[0m\u001b[0mnew_args\u001b[0m\u001b[0;34m,\u001b[0m \u001b[0;34m**\u001b[0m\u001b[0mkwargs\u001b[0m\u001b[0;34m)\u001b[0m\u001b[0;34m\u001b[0m\u001b[0;34m\u001b[0m\u001b[0m\n\u001b[0m\u001b[1;32m    241\u001b[0m         \u001b[0;32mfinally\u001b[0m\u001b[0;34m:\u001b[0m\u001b[0;34m\u001b[0m\u001b[0;34m\u001b[0m\u001b[0m\n\u001b[1;32m    242\u001b[0m             \u001b[0;32mif\u001b[0m \u001b[0mclose_fobj\u001b[0m\u001b[0;34m:\u001b[0m\u001b[0;34m\u001b[0m\u001b[0;34m\u001b[0m\u001b[0m\n",
      "\u001b[0;32mC:\\Users\\antonio\\AppData\\Roaming\\Python\\Python37\\site-packages\\networkx\\readwrite\\adjlist.py\u001b[0m in \u001b[0;36mread_adjlist\u001b[0;34m(path, comments, delimiter, create_using, nodetype, encoding)\u001b[0m\n\u001b[1;32m    294\u001b[0m                          \u001b[0mdelimiter\u001b[0m\u001b[0;34m=\u001b[0m\u001b[0mdelimiter\u001b[0m\u001b[0;34m,\u001b[0m\u001b[0;34m\u001b[0m\u001b[0;34m\u001b[0m\u001b[0m\n\u001b[1;32m    295\u001b[0m                          \u001b[0mcreate_using\u001b[0m\u001b[0;34m=\u001b[0m\u001b[0mcreate_using\u001b[0m\u001b[0;34m,\u001b[0m\u001b[0;34m\u001b[0m\u001b[0;34m\u001b[0m\u001b[0m\n\u001b[0;32m--> 296\u001b[0;31m                          nodetype=nodetype)\n\u001b[0m\u001b[1;32m    297\u001b[0m \u001b[0;34m\u001b[0m\u001b[0m\n\u001b[1;32m    298\u001b[0m \u001b[0;31m# fixture for nose tests\u001b[0m\u001b[0;34m\u001b[0m\u001b[0;34m\u001b[0m\u001b[0;34m\u001b[0m\u001b[0m\n",
      "\u001b[0;32mC:\\Users\\antonio\\AppData\\Roaming\\Python\\Python37\\site-packages\\networkx\\readwrite\\adjlist.py\u001b[0m in \u001b[0;36mparse_adjlist\u001b[0;34m(lines, comments, delimiter, create_using, nodetype)\u001b[0m\n\u001b[1;32m    215\u001b[0m                 raise TypeError(\"Failed to convert nodes ({}) to type {}\"\n\u001b[1;32m    216\u001b[0m                                 .format(','.join(vlist), nodetype))\n\u001b[0;32m--> 217\u001b[0;31m         \u001b[0mG\u001b[0m\u001b[0;34m.\u001b[0m\u001b[0madd_edges_from\u001b[0m\u001b[0;34m(\u001b[0m\u001b[0;34m[\u001b[0m\u001b[0;34m(\u001b[0m\u001b[0mu\u001b[0m\u001b[0;34m,\u001b[0m \u001b[0mv\u001b[0m\u001b[0;34m)\u001b[0m \u001b[0;32mfor\u001b[0m \u001b[0mv\u001b[0m \u001b[0;32min\u001b[0m \u001b[0mvlist\u001b[0m\u001b[0;34m]\u001b[0m\u001b[0;34m)\u001b[0m\u001b[0;34m\u001b[0m\u001b[0;34m\u001b[0m\u001b[0m\n\u001b[0m\u001b[1;32m    218\u001b[0m     \u001b[0;32mreturn\u001b[0m \u001b[0mG\u001b[0m\u001b[0;34m\u001b[0m\u001b[0;34m\u001b[0m\u001b[0m\n\u001b[1;32m    219\u001b[0m \u001b[0;34m\u001b[0m\u001b[0m\n",
      "\u001b[0;32mC:\\Users\\antonio\\AppData\\Roaming\\Python\\Python37\\site-packages\\networkx\\classes\\graph.py\u001b[0m in \u001b[0;36madd_edges_from\u001b[0;34m(self, ebunch_to_add, **attr)\u001b[0m\n\u001b[1;32m    960\u001b[0m             \u001b[0mdatadict\u001b[0m\u001b[0;34m.\u001b[0m\u001b[0mupdate\u001b[0m\u001b[0;34m(\u001b[0m\u001b[0mattr\u001b[0m\u001b[0;34m)\u001b[0m\u001b[0;34m\u001b[0m\u001b[0;34m\u001b[0m\u001b[0m\n\u001b[1;32m    961\u001b[0m             \u001b[0mdatadict\u001b[0m\u001b[0;34m.\u001b[0m\u001b[0mupdate\u001b[0m\u001b[0;34m(\u001b[0m\u001b[0mdd\u001b[0m\u001b[0;34m)\u001b[0m\u001b[0;34m\u001b[0m\u001b[0;34m\u001b[0m\u001b[0m\n\u001b[0;32m--> 962\u001b[0;31m             \u001b[0mself\u001b[0m\u001b[0;34m.\u001b[0m\u001b[0m_adj\u001b[0m\u001b[0;34m[\u001b[0m\u001b[0mu\u001b[0m\u001b[0;34m]\u001b[0m\u001b[0;34m[\u001b[0m\u001b[0mv\u001b[0m\u001b[0;34m]\u001b[0m \u001b[0;34m=\u001b[0m \u001b[0mdatadict\u001b[0m\u001b[0;34m\u001b[0m\u001b[0;34m\u001b[0m\u001b[0m\n\u001b[0m\u001b[1;32m    963\u001b[0m             \u001b[0mself\u001b[0m\u001b[0;34m.\u001b[0m\u001b[0m_adj\u001b[0m\u001b[0;34m[\u001b[0m\u001b[0mv\u001b[0m\u001b[0;34m]\u001b[0m\u001b[0;34m[\u001b[0m\u001b[0mu\u001b[0m\u001b[0;34m]\u001b[0m \u001b[0;34m=\u001b[0m \u001b[0mdatadict\u001b[0m\u001b[0;34m\u001b[0m\u001b[0;34m\u001b[0m\u001b[0m\n\u001b[1;32m    964\u001b[0m \u001b[0;34m\u001b[0m\u001b[0m\n",
      "\u001b[0;31mMemoryError\u001b[0m: "
     ],
     "output_type": "error"
    }
   ],
   "source": [
    "main()"
   ]
  },
  {
   "cell_type": "code",
   "execution_count": 247,
   "metadata": {},
   "outputs": [
    {
     "data": {
      "text/plain": [
       "8"
      ]
     },
     "execution_count": 247,
     "metadata": {},
     "output_type": "execute_result"
    }
   ],
   "source": [
    "a = [1, 2, 2]\n",
    "b = [2, 2, 1]\n",
    "c = np.dot(a, b)\n",
    "c"
   ]
  },
  {
   "cell_type": "code",
   "execution_count": null,
   "metadata": {},
   "outputs": [],
   "source": []
  },
  {
   "cell_type": "code",
   "execution_count": null,
   "metadata": {},
   "outputs": [],
   "source": []
  },
  {
   "cell_type": "code",
   "execution_count": 107,
   "metadata": {
    "collapsed": true
   },
   "outputs": [],
   "source": [
    ""
   ]
  },
  {
   "cell_type": "code",
   "execution_count": null,
   "metadata": {},
   "outputs": [],
   "source": []
  }
 ],
 "metadata": {
  "kernelspec": {
   "display_name": "Python 2",
   "language": "python",
   "name": "python2"
  },
  "language_info": {
   "codemirror_mode": {
    "name": "ipython",
    "version": 2
   },
   "file_extension": ".py",
   "mimetype": "text/x-python",
   "name": "python",
   "nbconvert_exporter": "python",
   "pygments_lexer": "ipython2",
   "version": "2.7.6"
  }
 },
 "nbformat": 4,
 "nbformat_minor": 0
}
